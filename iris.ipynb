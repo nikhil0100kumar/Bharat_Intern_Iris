import numpy as np
import pandas as pd

import numpy as np
import pandas as pd
import matplotlib.pyplot as plt
import seaborn as sns
from sklearn.model_selection import train_test_split
from sklearn.model_selection import cross_val_score
from sklearn.metrics import accuracy_score,confusion_matrix
from sklearn.neighbors import KNeighborsClassifier
from sklearn.linear_model import LogisticRegression
from sklearn.svm import SVC
from sklearn.ensemble import RandomForestClassifier,AdaBoostClassifier,GradientBoostingClassifier
from sklearn.tree import DecisionTreeClassifier
from xgboost import XGBClassifier
from sklearn.preprocessing import LabelEncoder,StandardScaler
import warnings
warnings.filterwarnings('ignore')

data=pd.read_csv(r"C:\Users\nikhil\Desktop\Iris.csv")
df=data.copy()

df.shape

df.isna()

df.isna().sum()

df.drop_duplicates(inplace=True)

df.info()

df.drop("Id",axis=1,inplace=True)

desc=pd.DataFrame(round((df.describe().T),2))
desc

plt.figure(figsize=(10, 6))
sns.scatterplot(x='SepalLengthCm', y='SepalWidthCm', data=df, hue="Species", palette="Set2", s=80, alpha=0.8)
plt.title("Scatter Plot of Sepal Length vs Sepal Width")
plt.xlabel("Sepal Length (cm)")
plt.ylabel("Sepal Width (cm)")
plt.legend(title='Species')
plt.show()

plt.figure(figsize=(10, 6))
sns.scatterplot(x='PetalLengthCm', y='PetalWidthCm', data=df, hue="Species", palette="Set2", s=80, alpha=0.8)
plt.title("Scatter Plot of Petal Length vs Petal Width")
plt.xlabel("Petal Length (cm)")
plt.ylabel("Petal Width (cm)")
plt.legend(title='Species')
plt.show()

le=LabelEncoder()
df["Species"]=le.fit_transform(df["Species"])

correlation_matrix = df.corr()
plt.figure(figsize=(8, 6))
sns.heatmap(correlation_matrix, cmap="rocket", annot=True)
plt.title("Iris Correlation Matrix")
plt.show()

X=df.drop(["Species"],axis=1)
y=df["Species"]
X_train,X_test,y_train,y_test=train_test_split(X,y,random_state=25)

X_train.shape

X_test.shape

y_train.shape

models = {
    'KNeighborsClassifier': KNeighborsClassifier(),
    'LogisticRegression': LogisticRegression(),
    'SVC': SVC(),
    'RandomForestClassifier': RandomForestClassifier(),
    'AdaBoostClassifier': AdaBoostClassifier(),
    'GradientBoostingClassifier': GradientBoostingClassifier(),
    'DecisionTreeClassifier': DecisionTreeClassifier(),
    'XGBClassifier': XGBClassifier(),
}

accuracy_scores = []
confusion_matrices = []
model_names = []

for model_name, model_instance in models.items():
    print(f"-----{model_name}-----")
    
    # Cross-validation
    cross_val_scores = cross_val_score(model_instance, X, y, cv=5, scoring='accuracy')
    mean_cv_score = round(cross_val_scores.mean(), 3)
  
    # Fit the model
    model_instance.fit(X_train, y_train)
    
    # Make predictions
    y_pred = model_instance.predict(X_test)
    
    # Calculate accuracy score
    accuracy = round(accuracy_score(y_test, y_pred), 3)
    
    # Calculate confusion matrix
    cm = confusion_matrix(y_test, y_pred)
    
    # Append results to lists
    accuracy_scores.append(accuracy)
    confusion_matrices.append(cm)
    
    # Store model names
    model_names.append(model_name)
    
    # Print results
    print("Cross-Validation Mean Accuracy:", mean_cv_score)
    print("Accuracy Score:", accuracy)
    print("Confusion Matrix:\n", cm)
    print("\n")

results_df = pd.DataFrame({'Model': model_names, 'Accuracy Score': accuracy_scores})
results_df

results_df = results_df.sort_values(by='Accuracy Score')
results_df

plt.figure(figsize=(10, 6))
sns.set(style="whitegrid")  # Add a grid for better readability
ax = sns.barplot(x='Accuracy Score', y='Model', data=results_df, palette='viridis')
plt.xlabel("Accuracy Score")
plt.title("Accuracy Scores for Each Model (Ascending Order)")
